{
 "cells": [
  {
   "cell_type": "code",
   "execution_count": null,
   "id": "temporal-plaintiff",
   "metadata": {
    "scrolled": true
   },
   "outputs": [
    {
     "name": "stdout",
     "output_type": "stream",
     "text": [
      "Welcome to hangman! Let's play!\n",
      "['__ ', '__ ', '__ ', '__ ', '__ ', '__ ', '__ ', '__ ', '__ ']\n",
      "\n"
     ]
    }
   ],
   "source": [
    "def hangman(word):\n",
    "    picture = [\" -------     \",\n",
    "               \"       |     \",\n",
    "               \"       O     \",\n",
    "               \"       |     \",\n",
    "               \"      /|\\    \",\n",
    "               \"      / \\    \"]\n",
    "              \n",
    "    print(\"Welcome to hangman! Let's play!\")\n",
    "    pictureLength = len(picture)\n",
    "    wordLength = len(word)  \n",
    "    unGuessedWords = [\"__ \"] * wordLength\n",
    "    numGuesses = 0\n",
    "    while numGuesses <= pictureLength:\n",
    "        print(unGuessedWords)\n",
    "        print(\"\\n\".join(picture[:numGuesses]))\n",
    "        playerGuess = input(\"Guess letter here:\")\n",
    "        if playerGuess in word:\n",
    "            index = word.index(playerGuess)\n",
    "            unGuessedWords[index] = playerGuess\n",
    "        if playerGuess not in word:\n",
    "            numGuesses += 1\n",
    "        guessedWord = \"\".join(unGuessedWords)\n",
    "        if guessedWord == word:\n",
    "            print(\"You win! The word was\", word, \"!\")\n",
    "            break\n",
    "    if numGuesses > pictureLength:\n",
    "        print(\"You loose! The word was\", word, \"!\")\n",
    "        \n",
    "    \n",
    "hangman(\"rocketlab\")"
   ]
  }
 ],
 "metadata": {
  "kernelspec": {
   "display_name": "Python 3",
   "language": "python",
   "name": "python3"
  },
  "language_info": {
   "codemirror_mode": {
    "name": "ipython",
    "version": 3
   },
   "file_extension": ".py",
   "mimetype": "text/x-python",
   "name": "python",
   "nbconvert_exporter": "python",
   "pygments_lexer": "ipython3",
   "version": "3.9.2"
  }
 },
 "nbformat": 4,
 "nbformat_minor": 5
}
